{
 "cells": [
  {
   "cell_type": "markdown",
   "metadata": {},
   "source": [
    "# Projet Maison 1\n",
    "\n",
    "\n",
    "Ecrire une fonction `count_words(text)` qui :\n",
    "1. Extrait tous les mots d'un texte (N.B. on pourra utiliser la fonction `findall()` du module **re** et le motif `\"[A-Za-z]+\"`, voir https://docs.python.org/3.9/library/re.html#module-contents)\n",
    "2. Retourne un dictionnaire avec pour chaque mot le nombre d'occurrences du mot dans le texte.\n",
    "\n",
    "Avec le texte `\"A bon chat bon rat.\"` la fonction doit retourner : `{'A':1, 'bon':2, 'chat':1, 'rat':1}`.\n",
    "\n",
    "**Important : le notebook doit être entièrement exécuté et déposé sur *github* (donc avec les résultats des tests).**"
   ]
  },
  {
   "cell_type": "code",
   "execution_count": 23,
   "metadata": {},
   "outputs": [],
   "source": [
    "# Kévin MIGADEL\n",
    "# 07/09/2022\n",
    "\n",
    "#On importe de la librairie collections la classe Counter \n",
    "from collections import Counter\n",
    "\n",
    "# On créer une fonction nommé count_words qui prend en argument une variable string\n",
    "def count_words(text):\n",
    "    #On créer un dictionnaire nommé dico\n",
    "    dico = {}\n",
    "    \n",
    "    #On créer une liste 'result' qui contient l'ensemble des mots contenu dans la variable 'text'  \n",
    "    result = re.findall(\"[A-Za-z]+\", text)   \n",
    "    \n",
    "    #Pour chaque mot dans 'result'\n",
    "    for mot in result:\n",
    "        #Si le mot existe dans 'dico'\n",
    "        if mot in dico:                      \n",
    "            #Nous incrementons de 1 l'occurence du mot\n",
    "            dico[mot] = dico.get(mot) + 1\n",
    "        #Sinon\n",
    "        else : \n",
    "            #Si le mot n'est pas dans 'dico' on ajoute 1 à l'occurence\n",
    "            dico[mot] = 1                    \n",
    "    #On retourne 'dico'\n",
    "    return dico                              "
   ]
  },
  {
   "cell_type": "code",
   "execution_count": 24,
   "metadata": {},
   "outputs": [
    {
     "name": "stdout",
     "output_type": "stream",
     "text": [
      "True\n"
     ]
    }
   ],
   "source": [
    "print(count_words(\"A bon chat bon rat.\") == {'A':1, 'bon':2, 'chat':1, 'rat':1})"
   ]
  },
  {
   "cell_type": "code",
   "execution_count": 25,
   "metadata": {},
   "outputs": [],
   "source": [
    "# tests\n",
    "import unittest\n",
    "\n",
    "text = open(\"alice_in_wonderland.txt\").read()\n",
    "\n",
    "class Session1Test(unittest.TestCase):\n",
    "    \n",
    "    def test_queen(self):\n",
    "        dico = count_words(text)\n",
    "        self.assertEqual(dico[\"Queen\"], 74)\n",
    "        \n",
    "    def test_alice(self):\n",
    "        dico = count_words(text)\n",
    "        self.assertEqual(dico[\"Alice\"], 396)\n",
    "        \n",
    "    def test_rabbit(self):\n",
    "        dico = count_words(text)\n",
    "        self.assertEqual(dico[\"Rabbit\"], 45)"
   ]
  },
  {
   "cell_type": "code",
   "execution_count": 26,
   "metadata": {},
   "outputs": [
    {
     "name": "stderr",
     "output_type": "stream",
     "text": [
      "test_alice (__main__.Session1Test) ... ok\n",
      "test_queen (__main__.Session1Test) ... ok\n",
      "test_rabbit (__main__.Session1Test) ... ok\n",
      "\n",
      "----------------------------------------------------------------------\n",
      "Ran 3 tests in 0.031s\n",
      "\n",
      "OK\n"
     ]
    }
   ],
   "source": [
    "# run tests\n",
    "def run_tests():\n",
    "    test_suite = unittest.makeSuite(Session1Test)\n",
    "    runner = unittest.TextTestRunner(verbosity=2)\n",
    "    runner.run(test_suite)\n",
    "    \n",
    "run_tests()"
   ]
  },
  {
   "cell_type": "code",
   "execution_count": null,
   "metadata": {},
   "outputs": [],
   "source": []
  }
 ],
 "metadata": {
  "kernelspec": {
   "display_name": "Python 3",
   "language": "python",
   "name": "python3"
  },
  "language_info": {
   "codemirror_mode": {
    "name": "ipython",
    "version": 3
   },
   "file_extension": ".py",
   "mimetype": "text/x-python",
   "name": "python",
   "nbconvert_exporter": "python",
   "pygments_lexer": "ipython3",
   "version": "3.9.2"
  }
 },
 "nbformat": 4,
 "nbformat_minor": 4
}
