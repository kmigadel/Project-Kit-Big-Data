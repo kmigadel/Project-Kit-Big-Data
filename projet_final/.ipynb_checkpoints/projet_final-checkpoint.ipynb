{
 "cells": [
  {
   "cell_type": "markdown",
   "id": "3cf76945-8ac3-4407-af80-026616d62649",
   "metadata": {},
   "source": [
    "# Projet final du Kit Big Data 2022\n",
    "Le projet final du Kit Big Data 2022 porte sur les données du **Vendée Globe 2020-2021**.\n",
    "\n",
    "Le projet se déroule **24 novembre au 4 décembre 2022** date limite pour rendre vos projets respectifs.\n",
    "\n",
    "Les données du dernier **Vendée Globe** sont disponibles sous la forme de fichiers Excel avec les classements fournis plusieurs fois par jour par les organisateurs de la course. Il y a également une page web avec une fiche technique par voilier qui contient des informations techniques et qu'il est possible de rapprocher des classements.\n",
    "\n",
    "Il vous appartient de charger les données en Python, de procéder aux préparations nécessaires et d'effectuer les analyses pertinentes de votre choix.\n",
    "\n",
    "Le rendu sera un notebook Jupyter fourni aux formats ipynb et HTML.\n",
    "\n",
    "**Barème sur 15 points** :\n",
    "\n",
    "- Acquisition et chargement des données : 3 points\n",
    "- Préparation des données : 5 points\n",
    "- Analyses et story telling : 7 points\n",
    "\n",
    "**Exemples de traitements et d'analyses** :\n",
    "\n",
    "1. Acquisition et chargement des données :\n",
    "   - Acquérir l'ensemble des fichiers Excel des classements via la page de classement.\n",
    "   - Mettre en place une copie locale des fichiers Excel afin de ne pas les recharger à chaque run.\n",
    "   - Vers la fin de la course le format des fichiers Excel change avec les arrivées des voiliers : il est possible de s'arrêter juste avant.\n",
    "   - Acquérir les caractéristiques des bateaux.\n",
    "2. Préparation des données\n",
    "   - Préparation des données relatives aux classements.\n",
    "   - Extraction des caractéristiques techniques de chacun des voiliers.\n",
    "   - Rapprochement des données des voiliers avec celle des classements.\n",
    "3. Analyses et story telling\n",
    "   - Corrélation et régression linéaire entre le classement (rang) et la vitesse utile (VMG) des voiliers.\n",
    "   - Impact de la présence d'un *foil* sur le classement et la vitesse des voiliers.\n",
    "   - Visualisation de la distance parcourue par voilier.\n",
    "   - Cartes avec les routes d'un ou plusieurs voiliers.\n",
    "   - Analyses de séries temporelles.\n",
    "   - Application d'algorithmes statistiques ou de machine learning.\n",
    "   - etc.\n",
    "\n",
    "**Sources des données**\n",
    "\n",
    "- Page web donnant accès aux fichiers Excel des classements du Vendée Globe : https://www.vendeeglobe.org/fr/classement\n",
    "- Page web avec les fiches techniques des voiliers du Vendée Globe : https://www.vendeeglobe.org/fr/glossaire\n",
    "- Site web donnant accès à des fichiers avec les formes géométriques des côtes : https://www.naturalearthdata.com/ (ou bien utilisez les librairies **plotly** ou **ipyleaflet** pour produire des cartes)\n",
    "- etc.\n",
    "\n",
    "**Questions/Réponses**\n",
    "\n",
    "Les questions et réponses seront publiées ci-après au fil de l'eau :\n",
    "\n",
    "1. Qu'est-ce qu'un *foil* ? https://www.vendeeglobe.org/fr/actualites/19755/quels-foils-pour-gagner-le-vendee-globe La présence d'un *foil* est indiqué dans l'attribut \"Nombre de dérives\" dans les fiches techniques des voiliers.\n",
    "2. S'agit-il d'un travail individuel ou collectif ? Il s'agit bien d'un travail individuel.\n",
    "3. Est-il possible de rendre plusieurs notebooks afin de délimiter clairement les différentes étapes du projet ? Tout peut tenir dans un seul notebook, mais pourquoi pas.\n",
    "4. Y a-t-il une norme pour le code ? Vous pouvez regarder la [PEP8](https://www.python.org/dev/peps/pep-0008/) (voir [Naming Conventions](https://www.python.org/dev/peps/pep-0008/#toc-entry-21) pour les noms de variables et de fonctions), mais le projet n'est particulièrement noté sur ce point.\n",
    "5. Faut-il créer un unique *DataFrame* mettant à chaque classement d'afficher les caractéristiques des voiliers ou bien peut-on gérer les 2 types de données indépendamment ? C'est à vous de voir en fonction des analyses que vous voulez produire.\n",
    "6. Peut-on produire des graphiques supplémentaires à ceux proposés ? Oui, vous avez toute latitude pour produire les analyses de votre choix à partir des données.\n",
    "7. Comment peut-on télécharger les fichier Excel pour ensuite les lire avec **pandas** ? Voir ci-dessous :\n",
    "\n",
    "```python\n",
    "from shutil import copyfileobj\n",
    "from urllib import request\n",
    "\n",
    "url = 'URL du fichier Excel à télécharger'\n",
    "filename = 'exemple.xlsx'\n",
    "\n",
    "with request.urlopen(url) as response, open(filename, 'wb') as out_file:\n",
    "    copyfileobj(response, out_file)\n",
    "```\n",
    "8. Il y a parfois un bug avec **pandas** qui s'appuie à présent sur la librairie **openpyxl** pour lire les fichiers Excel ? Voir le *work-around* ci-dessous avec la librairie **xlwings** qui peut lire les fichiers téléchargés et produire ensuite des fichiers Excel qui sont lisibles par **pandas**. A utiliser de préférence lorsque cela ne fonctionne pas directement avec **pandas** :\n",
    "```python\n",
    "import uuid\n",
    "\n",
    "import xlwings as xw\n",
    "\n",
    "# lecture/écriture d'un fichier Excel avec xlwings\n",
    "def save_with_xlwings(file):\n",
    "    tempfile = './{uuid.uuid1()}.xlsx'\n",
    "    excel_app = xw.App(visible=False)\n",
    "    excel_book = excel_app.books.open(file)\n",
    "    excel_book.save(tempfile)\n",
    "    excel_book.close()\n",
    "    excel_app.quit()\n",
    "    return tempfile\n",
    "```\n",
    "\n",
    "**Avertissement**\n",
    "\n",
    "Vous devez publier votre **notebook exécuté aux formats ipynb et HTML** sur votre github **avant le dimanche 4 décembre 2022 à 23h59** et, lorsque c'est fait, **envoyer une notification par email avec le lien du projet** à l'adresse `contact(at)yotta-conseil.fr`. Il n'est pas utile de publier les fichiers de données utilisés.\n",
    "\n",
    "### Bon projet !\n"
   ]
  },
  {
   "cell_type": "markdown",
   "id": "e8367d11-d581-4c41-9678-3aaefb109e15",
   "metadata": {},
   "source": [
    "## Import librairies"
   ]
  },
  {
   "cell_type": "code",
   "execution_count": 23,
   "id": "b22e3a46-6846-44c5-9c41-11d718110790",
   "metadata": {},
   "outputs": [],
   "source": [
    "import pandas as pd"
   ]
  },
  {
   "cell_type": "markdown",
   "id": "edc63cfb-70f7-4c98-81d7-e0f92c43e64d",
   "metadata": {},
   "source": [
    "## Import des données"
   ]
  },
  {
   "cell_type": "code",
   "execution_count": 28,
   "id": "1f8945a3-7de9-4cc3-ad05-200b34214f0c",
   "metadata": {},
   "outputs": [
    {
     "ename": "FileNotFoundError",
     "evalue": "[Errno 2] No such file or directory: './Projets-Kit-Big-Data/projet_final/vendeeglobe_20210305_080000_2.xlsx'",
     "output_type": "error",
     "traceback": [
      "\u001b[0;31m---------------------------------------------------------------------------\u001b[0m",
      "\u001b[0;31mFileNotFoundError\u001b[0m                         Traceback (most recent call last)",
      "Cell \u001b[0;32mIn [28], line 3\u001b[0m\n\u001b[1;32m      1\u001b[0m \u001b[38;5;66;03m#classement = pd.read_excel(\"https://www.vendeeglobe.org/download-race-data/vendeeglobe_20210305_080000.xlsx\", sheet_name='fr', skiprows=[0,1,2], skipfooter=1)\u001b[39;00m\n\u001b[1;32m      2\u001b[0m \u001b[38;5;66;03m#classement = classement.drop([0,2])\u001b[39;00m\n\u001b[0;32m----> 3\u001b[0m classement \u001b[38;5;241m=\u001b[39m \u001b[43mpd\u001b[49m\u001b[38;5;241;43m.\u001b[39;49m\u001b[43mread_excel\u001b[49m\u001b[43m(\u001b[49m\u001b[38;5;124;43m\"\u001b[39;49m\u001b[38;5;124;43m./Projets-Kit-Big-Data/projet_final/vendeeglobe_20210305_080000_2.xlsx\u001b[39;49m\u001b[38;5;124;43m\"\u001b[39;49m\u001b[43m)\u001b[49m\n\u001b[1;32m      4\u001b[0m classement\n",
      "File \u001b[0;32m/usr/local/lib/python3.8/dist-packages/pandas/util/_decorators.py:311\u001b[0m, in \u001b[0;36mdeprecate_nonkeyword_arguments.<locals>.decorate.<locals>.wrapper\u001b[0;34m(*args, **kwargs)\u001b[0m\n\u001b[1;32m    305\u001b[0m \u001b[38;5;28;01mif\u001b[39;00m \u001b[38;5;28mlen\u001b[39m(args) \u001b[38;5;241m>\u001b[39m num_allow_args:\n\u001b[1;32m    306\u001b[0m     warnings\u001b[38;5;241m.\u001b[39mwarn(\n\u001b[1;32m    307\u001b[0m         msg\u001b[38;5;241m.\u001b[39mformat(arguments\u001b[38;5;241m=\u001b[39marguments),\n\u001b[1;32m    308\u001b[0m         \u001b[38;5;167;01mFutureWarning\u001b[39;00m,\n\u001b[1;32m    309\u001b[0m         stacklevel\u001b[38;5;241m=\u001b[39mstacklevel,\n\u001b[1;32m    310\u001b[0m     )\n\u001b[0;32m--> 311\u001b[0m \u001b[38;5;28;01mreturn\u001b[39;00m \u001b[43mfunc\u001b[49m\u001b[43m(\u001b[49m\u001b[38;5;241;43m*\u001b[39;49m\u001b[43margs\u001b[49m\u001b[43m,\u001b[49m\u001b[43m \u001b[49m\u001b[38;5;241;43m*\u001b[39;49m\u001b[38;5;241;43m*\u001b[39;49m\u001b[43mkwargs\u001b[49m\u001b[43m)\u001b[49m\n",
      "File \u001b[0;32m/usr/local/lib/python3.8/dist-packages/pandas/io/excel/_base.py:457\u001b[0m, in \u001b[0;36mread_excel\u001b[0;34m(io, sheet_name, header, names, index_col, usecols, squeeze, dtype, engine, converters, true_values, false_values, skiprows, nrows, na_values, keep_default_na, na_filter, verbose, parse_dates, date_parser, thousands, decimal, comment, skipfooter, convert_float, mangle_dupe_cols, storage_options)\u001b[0m\n\u001b[1;32m    455\u001b[0m \u001b[38;5;28;01mif\u001b[39;00m \u001b[38;5;129;01mnot\u001b[39;00m \u001b[38;5;28misinstance\u001b[39m(io, ExcelFile):\n\u001b[1;32m    456\u001b[0m     should_close \u001b[38;5;241m=\u001b[39m \u001b[38;5;28;01mTrue\u001b[39;00m\n\u001b[0;32m--> 457\u001b[0m     io \u001b[38;5;241m=\u001b[39m \u001b[43mExcelFile\u001b[49m\u001b[43m(\u001b[49m\u001b[43mio\u001b[49m\u001b[43m,\u001b[49m\u001b[43m \u001b[49m\u001b[43mstorage_options\u001b[49m\u001b[38;5;241;43m=\u001b[39;49m\u001b[43mstorage_options\u001b[49m\u001b[43m,\u001b[49m\u001b[43m \u001b[49m\u001b[43mengine\u001b[49m\u001b[38;5;241;43m=\u001b[39;49m\u001b[43mengine\u001b[49m\u001b[43m)\u001b[49m\n\u001b[1;32m    458\u001b[0m \u001b[38;5;28;01melif\u001b[39;00m engine \u001b[38;5;129;01mand\u001b[39;00m engine \u001b[38;5;241m!=\u001b[39m io\u001b[38;5;241m.\u001b[39mengine:\n\u001b[1;32m    459\u001b[0m     \u001b[38;5;28;01mraise\u001b[39;00m \u001b[38;5;167;01mValueError\u001b[39;00m(\n\u001b[1;32m    460\u001b[0m         \u001b[38;5;124m\"\u001b[39m\u001b[38;5;124mEngine should not be specified when passing \u001b[39m\u001b[38;5;124m\"\u001b[39m\n\u001b[1;32m    461\u001b[0m         \u001b[38;5;124m\"\u001b[39m\u001b[38;5;124man ExcelFile - ExcelFile already has the engine set\u001b[39m\u001b[38;5;124m\"\u001b[39m\n\u001b[1;32m    462\u001b[0m     )\n",
      "File \u001b[0;32m/usr/local/lib/python3.8/dist-packages/pandas/io/excel/_base.py:1376\u001b[0m, in \u001b[0;36mExcelFile.__init__\u001b[0;34m(self, path_or_buffer, engine, storage_options)\u001b[0m\n\u001b[1;32m   1374\u001b[0m     ext \u001b[38;5;241m=\u001b[39m \u001b[38;5;124m\"\u001b[39m\u001b[38;5;124mxls\u001b[39m\u001b[38;5;124m\"\u001b[39m\n\u001b[1;32m   1375\u001b[0m \u001b[38;5;28;01melse\u001b[39;00m:\n\u001b[0;32m-> 1376\u001b[0m     ext \u001b[38;5;241m=\u001b[39m \u001b[43minspect_excel_format\u001b[49m\u001b[43m(\u001b[49m\n\u001b[1;32m   1377\u001b[0m \u001b[43m        \u001b[49m\u001b[43mcontent_or_path\u001b[49m\u001b[38;5;241;43m=\u001b[39;49m\u001b[43mpath_or_buffer\u001b[49m\u001b[43m,\u001b[49m\u001b[43m \u001b[49m\u001b[43mstorage_options\u001b[49m\u001b[38;5;241;43m=\u001b[39;49m\u001b[43mstorage_options\u001b[49m\n\u001b[1;32m   1378\u001b[0m \u001b[43m    \u001b[49m\u001b[43m)\u001b[49m\n\u001b[1;32m   1379\u001b[0m     \u001b[38;5;28;01mif\u001b[39;00m ext \u001b[38;5;129;01mis\u001b[39;00m \u001b[38;5;28;01mNone\u001b[39;00m:\n\u001b[1;32m   1380\u001b[0m         \u001b[38;5;28;01mraise\u001b[39;00m \u001b[38;5;167;01mValueError\u001b[39;00m(\n\u001b[1;32m   1381\u001b[0m             \u001b[38;5;124m\"\u001b[39m\u001b[38;5;124mExcel file format cannot be determined, you must specify \u001b[39m\u001b[38;5;124m\"\u001b[39m\n\u001b[1;32m   1382\u001b[0m             \u001b[38;5;124m\"\u001b[39m\u001b[38;5;124man engine manually.\u001b[39m\u001b[38;5;124m\"\u001b[39m\n\u001b[1;32m   1383\u001b[0m         )\n",
      "File \u001b[0;32m/usr/local/lib/python3.8/dist-packages/pandas/io/excel/_base.py:1250\u001b[0m, in \u001b[0;36minspect_excel_format\u001b[0;34m(content_or_path, storage_options)\u001b[0m\n\u001b[1;32m   1247\u001b[0m \u001b[38;5;28;01mif\u001b[39;00m \u001b[38;5;28misinstance\u001b[39m(content_or_path, \u001b[38;5;28mbytes\u001b[39m):\n\u001b[1;32m   1248\u001b[0m     content_or_path \u001b[38;5;241m=\u001b[39m BytesIO(content_or_path)\n\u001b[0;32m-> 1250\u001b[0m \u001b[38;5;28;01mwith\u001b[39;00m \u001b[43mget_handle\u001b[49m\u001b[43m(\u001b[49m\n\u001b[1;32m   1251\u001b[0m \u001b[43m    \u001b[49m\u001b[43mcontent_or_path\u001b[49m\u001b[43m,\u001b[49m\u001b[43m \u001b[49m\u001b[38;5;124;43m\"\u001b[39;49m\u001b[38;5;124;43mrb\u001b[39;49m\u001b[38;5;124;43m\"\u001b[39;49m\u001b[43m,\u001b[49m\u001b[43m \u001b[49m\u001b[43mstorage_options\u001b[49m\u001b[38;5;241;43m=\u001b[39;49m\u001b[43mstorage_options\u001b[49m\u001b[43m,\u001b[49m\u001b[43m \u001b[49m\u001b[43mis_text\u001b[49m\u001b[38;5;241;43m=\u001b[39;49m\u001b[38;5;28;43;01mFalse\u001b[39;49;00m\n\u001b[1;32m   1252\u001b[0m \u001b[43m\u001b[49m\u001b[43m)\u001b[49m \u001b[38;5;28;01mas\u001b[39;00m handle:\n\u001b[1;32m   1253\u001b[0m     stream \u001b[38;5;241m=\u001b[39m handle\u001b[38;5;241m.\u001b[39mhandle\n\u001b[1;32m   1254\u001b[0m     stream\u001b[38;5;241m.\u001b[39mseek(\u001b[38;5;241m0\u001b[39m)\n",
      "File \u001b[0;32m/usr/local/lib/python3.8/dist-packages/pandas/io/common.py:795\u001b[0m, in \u001b[0;36mget_handle\u001b[0;34m(path_or_buf, mode, encoding, compression, memory_map, is_text, errors, storage_options)\u001b[0m\n\u001b[1;32m    786\u001b[0m         handle \u001b[38;5;241m=\u001b[39m \u001b[38;5;28mopen\u001b[39m(\n\u001b[1;32m    787\u001b[0m             handle,\n\u001b[1;32m    788\u001b[0m             ioargs\u001b[38;5;241m.\u001b[39mmode,\n\u001b[0;32m   (...)\u001b[0m\n\u001b[1;32m    791\u001b[0m             newline\u001b[38;5;241m=\u001b[39m\u001b[38;5;124m\"\u001b[39m\u001b[38;5;124m\"\u001b[39m,\n\u001b[1;32m    792\u001b[0m         )\n\u001b[1;32m    793\u001b[0m     \u001b[38;5;28;01melse\u001b[39;00m:\n\u001b[1;32m    794\u001b[0m         \u001b[38;5;66;03m# Binary mode\u001b[39;00m\n\u001b[0;32m--> 795\u001b[0m         handle \u001b[38;5;241m=\u001b[39m \u001b[38;5;28;43mopen\u001b[39;49m\u001b[43m(\u001b[49m\u001b[43mhandle\u001b[49m\u001b[43m,\u001b[49m\u001b[43m \u001b[49m\u001b[43mioargs\u001b[49m\u001b[38;5;241;43m.\u001b[39;49m\u001b[43mmode\u001b[49m\u001b[43m)\u001b[49m\n\u001b[1;32m    796\u001b[0m     handles\u001b[38;5;241m.\u001b[39mappend(handle)\n\u001b[1;32m    798\u001b[0m \u001b[38;5;66;03m# Convert BytesIO or file objects passed with an encoding\u001b[39;00m\n",
      "\u001b[0;31mFileNotFoundError\u001b[0m: [Errno 2] No such file or directory: './Projets-Kit-Big-Data/projet_final/vendeeglobe_20210305_080000_2.xlsx'"
     ]
    }
   ],
   "source": [
    "#classement = pd.read_excel(\"https://www.vendeeglobe.org/download-race-data/vendeeglobe_20210305_080000.xlsx\", sheet_name='fr', skiprows=[0,1,2], skipfooter=1)\n",
    "#classement = classement.drop([0,2])\n",
    "classement = pd.read_excel(\"./Projets-Kit-Big-Data/projet_final/vendeeglobe_20210305_080000_2.xlsx\")\n",
    "classement"
   ]
  },
  {
   "cell_type": "code",
   "execution_count": null,
   "id": "dd851015-78ca-40a7-85da-da0654bb9613",
   "metadata": {},
   "outputs": [],
   "source": []
  }
 ],
 "metadata": {
  "kernelspec": {
   "display_name": "Python 3 (ipykernel)",
   "language": "python",
   "name": "python3"
  },
  "language_info": {
   "codemirror_mode": {
    "name": "ipython",
    "version": 3
   },
   "file_extension": ".py",
   "mimetype": "text/x-python",
   "name": "python",
   "nbconvert_exporter": "python",
   "pygments_lexer": "ipython3",
   "version": "3.8.10"
  }
 },
 "nbformat": 4,
 "nbformat_minor": 5
}
